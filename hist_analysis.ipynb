{
 "cells": [
  {
   "cell_type": "markdown",
   "metadata": {},
   "source": [
    "# First HW part\n",
    "* Historical Data Analysis\n",
    "* Experiments"
   ]
  },
  {
   "cell_type": "code",
   "execution_count": 1,
   "metadata": {},
   "outputs": [],
   "source": [
    "import numpy as np\n",
    "import pandas as pd\n",
    "import seaborn as sns"
   ]
  },
  {
   "cell_type": "code",
   "execution_count": 2,
   "metadata": {},
   "outputs": [
    {
     "data": {
      "text/plain": [
       "(54750, 4)"
      ]
     },
     "execution_count": 2,
     "metadata": {},
     "output_type": "execute_result"
    }
   ],
   "source": [
    "hist_data = pd.read_csv(\"temperature_data.csv\")\n",
    "hist_data.shape"
   ]
  },
  {
   "cell_type": "code",
   "execution_count": 3,
   "metadata": {},
   "outputs": [
    {
     "data": {
      "text/html": [
       "<div>\n",
       "<style scoped>\n",
       "    .dataframe tbody tr th:only-of-type {\n",
       "        vertical-align: middle;\n",
       "    }\n",
       "\n",
       "    .dataframe tbody tr th {\n",
       "        vertical-align: top;\n",
       "    }\n",
       "\n",
       "    .dataframe thead th {\n",
       "        text-align: right;\n",
       "    }\n",
       "</style>\n",
       "<table border=\"1\" class=\"dataframe\">\n",
       "  <thead>\n",
       "    <tr style=\"text-align: right;\">\n",
       "      <th></th>\n",
       "      <th>city</th>\n",
       "      <th>timestamp</th>\n",
       "      <th>temperature</th>\n",
       "      <th>season</th>\n",
       "    </tr>\n",
       "  </thead>\n",
       "  <tbody>\n",
       "    <tr>\n",
       "      <th>45704</th>\n",
       "      <td>Mumbai</td>\n",
       "      <td>2015-03-20</td>\n",
       "      <td>21.836685</td>\n",
       "      <td>spring</td>\n",
       "    </tr>\n",
       "    <tr>\n",
       "      <th>45500</th>\n",
       "      <td>Mumbai</td>\n",
       "      <td>2014-08-28</td>\n",
       "      <td>35.519547</td>\n",
       "      <td>summer</td>\n",
       "    </tr>\n",
       "    <tr>\n",
       "      <th>48230</th>\n",
       "      <td>Cairo</td>\n",
       "      <td>2012-02-20</td>\n",
       "      <td>14.322762</td>\n",
       "      <td>winter</td>\n",
       "    </tr>\n",
       "    <tr>\n",
       "      <th>9535</th>\n",
       "      <td>Paris</td>\n",
       "      <td>2016-02-14</td>\n",
       "      <td>2.588359</td>\n",
       "      <td>winter</td>\n",
       "    </tr>\n",
       "    <tr>\n",
       "      <th>30630</th>\n",
       "      <td>Rio de Janeiro</td>\n",
       "      <td>2013-12-01</td>\n",
       "      <td>18.914961</td>\n",
       "      <td>winter</td>\n",
       "    </tr>\n",
       "    <tr>\n",
       "      <th>52053</th>\n",
       "      <td>Mexico City</td>\n",
       "      <td>2012-08-11</td>\n",
       "      <td>11.682768</td>\n",
       "      <td>summer</td>\n",
       "    </tr>\n",
       "  </tbody>\n",
       "</table>\n",
       "</div>"
      ],
      "text/plain": [
       "                 city   timestamp  temperature  season\n",
       "45704          Mumbai  2015-03-20    21.836685  spring\n",
       "45500          Mumbai  2014-08-28    35.519547  summer\n",
       "48230           Cairo  2012-02-20    14.322762  winter\n",
       "9535            Paris  2016-02-14     2.588359  winter\n",
       "30630  Rio de Janeiro  2013-12-01    18.914961  winter\n",
       "52053     Mexico City  2012-08-11    11.682768  summer"
      ]
     },
     "execution_count": 3,
     "metadata": {},
     "output_type": "execute_result"
    }
   ],
   "source": [
    "hist_data.sample(6)"
   ]
  },
  {
   "cell_type": "code",
   "execution_count": 4,
   "metadata": {},
   "outputs": [
    {
     "data": {
      "text/plain": [
       "city            object\n",
       "timestamp       object\n",
       "temperature    float64\n",
       "season          object\n",
       "dtype: object"
      ]
     },
     "execution_count": 4,
     "metadata": {},
     "output_type": "execute_result"
    }
   ],
   "source": [
    "hist_data.dtypes"
   ]
  },
  {
   "cell_type": "code",
   "execution_count": 5,
   "metadata": {},
   "outputs": [
    {
     "data": {
      "image/png": "[encoded data removed]",
      "text/plain": [
       "<Figure size 640x480 with 1 Axes>"
      ]
     },
     "metadata": {},
     "output_type": "display_data"
    }
   ],
   "source": [
    "sns.countplot(data=hist_data, y=\"city\");"
   ]
  },
  {
   "cell_type": "markdown",
   "metadata": {},
   "source": [
    "## Тяжёлая функция"
   ]
  },
  {
   "cell_type": "code",
   "execution_count": 6,
   "metadata": {},
   "outputs": [],
   "source": [
    "from sklearn.linear_model import LinearRegression"
   ]
  },
  {
   "cell_type": "code",
   "execution_count": 7,
   "metadata": {},
   "outputs": [],
   "source": [
    "def heavy_analysis_func(df:pd.DataFrame, city:str|None = None, window_size = 30):\n",
    "    if city is not None:\n",
    "        df = df[df.city == city]\n",
    "    df = df.sort_values(by='timestamp')\n",
    "\n",
    "    main_stats = df['temperature'].agg(['mean', 'max', 'min'])\n",
    "\n",
    "    df[['mean_30ws', 'std_30ws']] = df['temperature'].rolling(\n",
    "                        window=window_size, center=True, \n",
    "                        closed='neither', min_periods=1,\n",
    "                        ).agg(['mean', 'std'])\n",
    "    \n",
    "    cond01 = df.temperature > df.mean_30ws + 2 * df.std_30ws\n",
    "    cond02 = df.temperature < df.mean_30ws - 2 * df.std_30ws\n",
    "    anomalies = df[cond01 | cond02].index\n",
    "    \n",
    "    season_profile = df.groupby('season').agg(\n",
    "        temp_mean=('temperature', 'mean'),\n",
    "        temp_std=('temperature', 'std'),\n",
    "    )\n",
    "    \n",
    "    temp = df['temperature']\n",
    "    trend = int(LinearRegression().fit(np.arange(len(temp)).reshape(-1, 1), temp).coef_[0] >= 0)\n",
    "\n",
    "    return city, main_stats, season_profile, trend, anomalies"
   ]
  },
  {
   "cell_type": "code",
   "execution_count": 8,
   "metadata": {},
   "outputs": [
    {
     "data": {
      "text/plain": [
       "('Moscow',\n",
       " mean     5.263984\n",
       " max     35.515405\n",
       " min    -24.706892\n",
       " Name: temperature, dtype: float64,\n",
       "         temp_mean  temp_std\n",
       " season                     \n",
       " autumn   8.108102  5.053306\n",
       " spring   5.093212  5.136862\n",
       " summer  17.917231  4.732645\n",
       " winter -10.371600  4.881839,\n",
       " 1,\n",
       " Index([14601, 14637, 14787, 14826, 14884, 14896, 14915, 14949, 15061, 15083,\n",
       "        ...\n",
       "        17875, 17887, 17906, 17933, 17968, 18021, 18160, 18181, 18200, 18207],\n",
       "       dtype='int64', length=106))"
      ]
     },
     "execution_count": 8,
     "metadata": {},
     "output_type": "execute_result"
    }
   ],
   "source": [
    "heavy_analysis_func(hist_data, \"Moscow\")"
   ]
  },
  {
   "cell_type": "code",
   "execution_count": 13,
   "metadata": {},
   "outputs": [],
   "source": [
    "city, stats, s_profile, trend, ano = heavy_analysis_func(hist_data, \"Moscow\")"
   ]
  },
  {
   "cell_type": "code",
   "execution_count": 14,
   "metadata": {},
   "outputs": [
    {
     "data": {
      "text/html": [
       "<div>\n",
       "<style scoped>\n",
       "    .dataframe tbody tr th:only-of-type {\n",
       "        vertical-align: middle;\n",
       "    }\n",
       "\n",
       "    .dataframe tbody tr th {\n",
       "        vertical-align: top;\n",
       "    }\n",
       "\n",
       "    .dataframe thead th {\n",
       "        text-align: right;\n",
       "    }\n",
       "</style>\n",
       "<table border=\"1\" class=\"dataframe\">\n",
       "  <thead>\n",
       "    <tr style=\"text-align: right;\">\n",
       "      <th></th>\n",
       "      <th>temp_mean</th>\n",
       "      <th>temp_std</th>\n",
       "    </tr>\n",
       "    <tr>\n",
       "      <th>season</th>\n",
       "      <th></th>\n",
       "      <th></th>\n",
       "    </tr>\n",
       "  </thead>\n",
       "  <tbody>\n",
       "    <tr>\n",
       "      <th>autumn</th>\n",
       "      <td>8.108102</td>\n",
       "      <td>5.053306</td>\n",
       "    </tr>\n",
       "    <tr>\n",
       "      <th>spring</th>\n",
       "      <td>5.093212</td>\n",
       "      <td>5.136862</td>\n",
       "    </tr>\n",
       "    <tr>\n",
       "      <th>summer</th>\n",
       "      <td>17.917231</td>\n",
       "      <td>4.732645</td>\n",
       "    </tr>\n",
       "    <tr>\n",
       "      <th>winter</th>\n",
       "      <td>-10.371600</td>\n",
       "      <td>4.881839</td>\n",
       "    </tr>\n",
       "  </tbody>\n",
       "</table>\n",
       "</div>"
      ],
      "text/plain": [
       "        temp_mean  temp_std\n",
       "season                     \n",
       "autumn   8.108102  5.053306\n",
       "spring   5.093212  5.136862\n",
       "summer  17.917231  4.732645\n",
       "winter -10.371600  4.881839"
      ]
     },
     "execution_count": 14,
     "metadata": {},
     "output_type": "execute_result"
    }
   ],
   "source": [
    "s_profile"
   ]
  },
  {
   "cell_type": "markdown",
   "metadata": {},
   "source": [
    "## Эксперименты по распараллеливанию\n",
    "\n",
    "Как я поняла задание: тут нужно сравнить базовый вариант без распрараллеливания и какой-то тип параллельности (только один). \n",
    "\n",
    "У нас тут CPU-bound"
   ]
  },
  {
   "cell_type": "code",
   "execution_count": 9,
   "metadata": {},
   "outputs": [
    {
     "name": "stdout",
     "output_type": "stream",
     "text": [
      "CPU times: user 136 ms, sys: 2.35 ms, total: 139 ms\n",
      "Wall time: 137 ms\n"
     ]
    }
   ],
   "source": [
    "%%time\n",
    "for city in hist_data.city.unique():\n",
    "    heavy_analysis_func(hist_data, city)"
   ]
  },
  {
   "cell_type": "code",
   "execution_count": 10,
   "metadata": {},
   "outputs": [],
   "source": [
    "from concurrent.futures import ProcessPoolExecutor, as_completed\n",
    "\n",
    "def many_processes_analysis_func(df: pd.DataFrame, cities: list = None, window_size=30):\n",
    "    if cities is None:\n",
    "        cities = df.city.unique()\n",
    "\n",
    "    results = []\n",
    "\n",
    "    with ProcessPoolExecutor() as executor:\n",
    "        futures = [executor.submit(heavy_analysis_func, df, city, window_size) for city in cities]\n",
    "        for future in as_completed(futures):\n",
    "            results.append(future.result())\n",
    "\n",
    "    return None\n",
    "    # return results"
   ]
  },
  {
   "cell_type": "code",
   "execution_count": 11,
   "metadata": {},
   "outputs": [
    {
     "name": "stdout",
     "output_type": "stream",
     "text": [
      "CPU times: user 105 ms, sys: 173 ms, total: 277 ms\n",
      "Wall time: 323 ms\n"
     ]
    }
   ],
   "source": [
    "%%time\n",
    "many_processes_analysis_func(hist_data)"
   ]
  },
  {
   "cell_type": "markdown",
   "metadata": {},
   "source": [
    "**Синхронный подход**:\n",
    "\n",
    "```python\n",
    "CPU times: user 192 ms, sys: 10.8 ms, total: 203 ms\n",
    "Wall time: 199 ms\n",
    "```\n",
    "\n",
    "**Многопроцессноть**:\n",
    "\n",
    "```python\n",
    "CPU times: user 94 ms, sys: 189 ms, total: 283 ms\n",
    "Wall time: 329 ms\n",
    "```\n"
   ]
  },
  {
   "cell_type": "markdown",
   "metadata": {},
   "source": [
    "* **С многопроцессностью получилось медленнее**, видимо, из-за того, что вычисления недостаточно тяжёлые для получения выгоды. \n",
    "\n",
    "* **Мы просто потратили ресурсы на распределение ресурсов**. Моя метафора: это как брать налоги, когда государство не нужно из-за слишком простого устройства общества. Они тогда бандиты получаются, которые за счёт других живут"
   ]
  },
  {
   "cell_type": "markdown",
   "metadata": {},
   "source": [
    "## Train API Call"
   ]
  },
  {
   "cell_type": "code",
   "execution_count": 12,
   "metadata": {},
   "outputs": [],
   "source": [
    "import requests"
   ]
  },
  {
   "cell_type": "code",
   "execution_count": 13,
   "metadata": {},
   "outputs": [],
   "source": [
    "API_KEY = 'aab31f6cd078f1d1e4ca7ece5964d8ac'"
   ]
  },
  {
   "cell_type": "code",
   "execution_count": 32,
   "metadata": {},
   "outputs": [],
   "source": [
    "def get_latitude_and_longitude(city_name, api_key):\n",
    "    base_url = f\"http://api.openweathermap.org/geo/1.0/direct\"\n",
    "    params = {\n",
    "        'q': city_name,\n",
    "        'appid': api_key,\n",
    "    }\n",
    "    response = requests.get(base_url, params=params)\n",
    "    \n",
    "    if response.status_code == 200:\n",
    "        response = response.json()[0]\n",
    "        return response['lat'], response['lon']\n",
    "    else:\n",
    "        raise Exception(f\"Ошибка запроса: {response.status_code}\")"
   ]
  },
  {
   "cell_type": "code",
   "execution_count": 33,
   "metadata": {},
   "outputs": [
    {
     "data": {
      "text/plain": [
       "(55.7504461, 37.6174943)"
      ]
     },
     "execution_count": 33,
     "metadata": {},
     "output_type": "execute_result"
    }
   ],
   "source": [
    "get_latitude_and_longitude(city_name=\"Moscow\", api_key=API_KEY)"
   ]
  },
  {
   "cell_type": "code",
   "execution_count": 28,
   "metadata": {},
   "outputs": [],
   "source": [
    "def get_weather_data(lat, lon, api_key):\n",
    "    base_url = f\"https://api.openweathermap.org/data/2.5/weather\"\n",
    "    params = {\n",
    "        'lat': lat,  # широта\n",
    "        'lon': lon,  # долгота\n",
    "        'appid': api_key,\n",
    "        'units': 'metric',\n",
    "    }\n",
    "    \n",
    "    response = requests.get(base_url, params=params)\n",
    "    \n",
    "    if response.status_code == 200:\n",
    "        return response.json()['main']['temp']\n",
    "    else:\n",
    "        raise Exception(f\"Ошибка запроса: {response.status_code}\")\n",
    "    \n",
    "    "
   ]
  },
  {
   "cell_type": "code",
   "execution_count": 29,
   "metadata": {},
   "outputs": [
    {
     "data": {
      "text/plain": [
       "13.91"
      ]
     },
     "execution_count": 29,
     "metadata": {},
     "output_type": "execute_result"
    }
   ],
   "source": [
    "get_weather_data(lat=55.7522, lon=37.6156, api_key=API_KEY)"
   ]
  },
  {
   "cell_type": "code",
   "execution_count": null,
   "metadata": {},
   "outputs": [],
   "source": []
  }
 ],
 "metadata": {
  "kernelspec": {
   "display_name": "year_pj_env",
   "language": "python",
   "name": "python3"
  },
  "language_info": {
   "codemirror_mode": {
    "name": "ipython",
    "version": 3
   },
   "file_extension": ".py",
   "mimetype": "text/x-python",
   "name": "python",
   "nbconvert_exporter": "python",
   "pygments_lexer": "ipython3",
   "version": "3.12.7"
  }
 },
 "nbformat": 4,
 "nbformat_minor": 2
}
